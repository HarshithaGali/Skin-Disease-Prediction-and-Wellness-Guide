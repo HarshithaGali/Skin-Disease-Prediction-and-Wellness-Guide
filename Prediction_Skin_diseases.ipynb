{
  "cells": [
    {
      "cell_type": "code",
      "execution_count": 41,
      "metadata": {
        "colab": {
          "base_uri": "https://localhost:8080/"
        },
        "id": "JYATNbzeXLUx",
        "outputId": "bee81e19-e058-4fc9-f9ab-3a006835afe6"
      },
      "outputs": [
        {
          "name": "stdout",
          "output_type": "stream",
          "text": [
            "Requirement already satisfied: tensorflow in /usr/local/lib/python3.10/dist-packages (2.14.0)\n",
            "Requirement already satisfied: absl-py>=1.0.0 in /usr/local/lib/python3.10/dist-packages (from tensorflow) (1.4.0)\n",
            "Requirement already satisfied: astunparse>=1.6.0 in /usr/local/lib/python3.10/dist-packages (from tensorflow) (1.6.3)\n",
            "Requirement already satisfied: flatbuffers>=23.5.26 in /usr/local/lib/python3.10/dist-packages (from tensorflow) (23.5.26)\n",
            "Requirement already satisfied: gast!=0.5.0,!=0.5.1,!=0.5.2,>=0.2.1 in /usr/local/lib/python3.10/dist-packages (from tensorflow) (0.5.4)\n",
            "Requirement already satisfied: google-pasta>=0.1.1 in /usr/local/lib/python3.10/dist-packages (from tensorflow) (0.2.0)\n",
            "Requirement already satisfied: h5py>=2.9.0 in /usr/local/lib/python3.10/dist-packages (from tensorflow) (3.9.0)\n",
            "Requirement already satisfied: libclang>=13.0.0 in /usr/local/lib/python3.10/dist-packages (from tensorflow) (16.0.6)\n",
            "Requirement already satisfied: ml-dtypes==0.2.0 in /usr/local/lib/python3.10/dist-packages (from tensorflow) (0.2.0)\n",
            "Requirement already satisfied: numpy>=1.23.5 in /usr/local/lib/python3.10/dist-packages (from tensorflow) (1.23.5)\n",
            "Requirement already satisfied: opt-einsum>=2.3.2 in /usr/local/lib/python3.10/dist-packages (from tensorflow) (3.3.0)\n",
            "Requirement already satisfied: packaging in /usr/local/lib/python3.10/dist-packages (from tensorflow) (23.2)\n",
            "Requirement already satisfied: protobuf!=4.21.0,!=4.21.1,!=4.21.2,!=4.21.3,!=4.21.4,!=4.21.5,<5.0.0dev,>=3.20.3 in /usr/local/lib/python3.10/dist-packages (from tensorflow) (3.20.3)\n",
            "Requirement already satisfied: setuptools in /usr/local/lib/python3.10/dist-packages (from tensorflow) (67.7.2)\n",
            "Requirement already satisfied: six>=1.12.0 in /usr/local/lib/python3.10/dist-packages (from tensorflow) (1.16.0)\n",
            "Requirement already satisfied: termcolor>=1.1.0 in /usr/local/lib/python3.10/dist-packages (from tensorflow) (2.3.0)\n",
            "Requirement already satisfied: typing-extensions>=3.6.6 in /usr/local/lib/python3.10/dist-packages (from tensorflow) (4.5.0)\n",
            "Requirement already satisfied: wrapt<1.15,>=1.11.0 in /usr/local/lib/python3.10/dist-packages (from tensorflow) (1.14.1)\n",
            "Requirement already satisfied: tensorflow-io-gcs-filesystem>=0.23.1 in /usr/local/lib/python3.10/dist-packages (from tensorflow) (0.34.0)\n",
            "Requirement already satisfied: grpcio<2.0,>=1.24.3 in /usr/local/lib/python3.10/dist-packages (from tensorflow) (1.59.2)\n",
            "Requirement already satisfied: tensorboard<2.15,>=2.14 in /usr/local/lib/python3.10/dist-packages (from tensorflow) (2.14.1)\n",
            "Requirement already satisfied: tensorflow-estimator<2.15,>=2.14.0 in /usr/local/lib/python3.10/dist-packages (from tensorflow) (2.14.0)\n",
            "Requirement already satisfied: keras<2.15,>=2.14.0 in /usr/local/lib/python3.10/dist-packages (from tensorflow) (2.14.0)\n",
            "Requirement already satisfied: wheel<1.0,>=0.23.0 in /usr/local/lib/python3.10/dist-packages (from astunparse>=1.6.0->tensorflow) (0.41.3)\n",
            "Requirement already satisfied: google-auth<3,>=1.6.3 in /usr/local/lib/python3.10/dist-packages (from tensorboard<2.15,>=2.14->tensorflow) (2.17.3)\n",
            "Requirement already satisfied: google-auth-oauthlib<1.1,>=0.5 in /usr/local/lib/python3.10/dist-packages (from tensorboard<2.15,>=2.14->tensorflow) (1.0.0)\n",
            "Requirement already satisfied: markdown>=2.6.8 in /usr/local/lib/python3.10/dist-packages (from tensorboard<2.15,>=2.14->tensorflow) (3.5.1)\n",
            "Requirement already satisfied: requests<3,>=2.21.0 in /usr/local/lib/python3.10/dist-packages (from tensorboard<2.15,>=2.14->tensorflow) (2.31.0)\n",
            "Requirement already satisfied: tensorboard-data-server<0.8.0,>=0.7.0 in /usr/local/lib/python3.10/dist-packages (from tensorboard<2.15,>=2.14->tensorflow) (0.7.2)\n",
            "Requirement already satisfied: werkzeug>=1.0.1 in /usr/local/lib/python3.10/dist-packages (from tensorboard<2.15,>=2.14->tensorflow) (3.0.1)\n",
            "Requirement already satisfied: cachetools<6.0,>=2.0.0 in /usr/local/lib/python3.10/dist-packages (from google-auth<3,>=1.6.3->tensorboard<2.15,>=2.14->tensorflow) (5.3.2)\n",
            "Requirement already satisfied: pyasn1-modules>=0.2.1 in /usr/local/lib/python3.10/dist-packages (from google-auth<3,>=1.6.3->tensorboard<2.15,>=2.14->tensorflow) (0.3.0)\n",
            "Requirement already satisfied: rsa<5,>=3.1.4 in /usr/local/lib/python3.10/dist-packages (from google-auth<3,>=1.6.3->tensorboard<2.15,>=2.14->tensorflow) (4.9)\n",
            "Requirement already satisfied: requests-oauthlib>=0.7.0 in /usr/local/lib/python3.10/dist-packages (from google-auth-oauthlib<1.1,>=0.5->tensorboard<2.15,>=2.14->tensorflow) (1.3.1)\n",
            "Requirement already satisfied: charset-normalizer<4,>=2 in /usr/local/lib/python3.10/dist-packages (from requests<3,>=2.21.0->tensorboard<2.15,>=2.14->tensorflow) (3.3.2)\n",
            "Requirement already satisfied: idna<4,>=2.5 in /usr/local/lib/python3.10/dist-packages (from requests<3,>=2.21.0->tensorboard<2.15,>=2.14->tensorflow) (3.4)\n",
            "Requirement already satisfied: urllib3<3,>=1.21.1 in /usr/local/lib/python3.10/dist-packages (from requests<3,>=2.21.0->tensorboard<2.15,>=2.14->tensorflow) (2.0.7)\n",
            "Requirement already satisfied: certifi>=2017.4.17 in /usr/local/lib/python3.10/dist-packages (from requests<3,>=2.21.0->tensorboard<2.15,>=2.14->tensorflow) (2023.7.22)\n",
            "Requirement already satisfied: MarkupSafe>=2.1.1 in /usr/local/lib/python3.10/dist-packages (from werkzeug>=1.0.1->tensorboard<2.15,>=2.14->tensorflow) (2.1.3)\n",
            "Requirement already satisfied: pyasn1<0.6.0,>=0.4.6 in /usr/local/lib/python3.10/dist-packages (from pyasn1-modules>=0.2.1->google-auth<3,>=1.6.3->tensorboard<2.15,>=2.14->tensorflow) (0.5.0)\n",
            "Requirement already satisfied: oauthlib>=3.0.0 in /usr/local/lib/python3.10/dist-packages (from requests-oauthlib>=0.7.0->google-auth-oauthlib<1.1,>=0.5->tensorboard<2.15,>=2.14->tensorflow) (3.2.2)\n"
          ]
        }
      ],
      "source": [
        "!pip install tensorflow\n"
      ]
    },
    {
      "cell_type": "code",
      "execution_count": 42,
      "metadata": {
        "id": "OpqCxFQdXTI_"
      },
      "outputs": [],
      "source": [
        "import tensorflow as tf\n",
        "from tensorflow.keras.preprocessing.image import ImageDataGenerator\n",
        "from tensorflow.keras.applications import MobileNetV2\n",
        "from tensorflow.keras import layers, models\n",
        "from tensorflow.keras.optimizers import Adam\n"
      ]
    },
    {
      "cell_type": "code",
      "execution_count": 43,
      "metadata": {
        "colab": {
          "base_uri": "https://localhost:8080/"
        },
        "id": "iUkp4LdEXU_4",
        "outputId": "3a88d872-0243-4965-8ecf-2459a0d4d561"
      },
      "outputs": [
        {
          "name": "stdout",
          "output_type": "stream",
          "text": [
            "Drive already mounted at /content/drive; to attempt to forcibly remount, call drive.mount(\"/content/drive\", force_remount=True).\n"
          ]
        }
      ],
      "source": [
        "from google.colab import drive\n",
        "drive.mount('/content/drive')\n"
      ]
    },
    {
      "cell_type": "code",
      "execution_count": 44,
      "metadata": {
        "id": "yZvxt274XXJz"
      },
      "outputs": [],
      "source": [
        "import os\n",
        "os.chdir('/content/drive/My Drive/ML-class/project/dataset')\n"
      ]
    },
    {
      "cell_type": "code",
      "execution_count": 45,
      "metadata": {
        "id": "YEz4XaIxutyK"
      },
      "outputs": [],
      "source": [
        "train_dir = \"/content/drive/My Drive/ML-class/project/dataset/train\"\n",
        "test_dir = \"/content/drive/My Drive/ML-class/project/dataset/test\""
      ]
    },
    {
      "cell_type": "code",
      "execution_count": 46,
      "metadata": {
        "colab": {
          "base_uri": "https://localhost:8080/"
        },
        "id": "4tqgBlzUu60Z",
        "outputId": "e4020e9f-9e86-4445-dac6-d8703e926136"
      },
      "outputs": [
        {
          "data": {
            "text/plain": [
              "['Acne and Rosacea Photos',\n",
              " 'Actinic Keratosis Basal Cell Carcinoma and other Malignant Lesions',\n",
              " 'Atopic Dermatitis Photos',\n",
              " 'Bullous Disease Photos',\n",
              " 'Cellulitis Impetigo and other Bacterial Infections',\n",
              " 'Eczema Photos',\n",
              " 'Exanthems and Drug Eruptions',\n",
              " 'Hair Loss Photos Alopecia and other Hair Diseases',\n",
              " 'Herpes HPV and other STDs Photos',\n",
              " 'Light Diseases and Disorders of Pigmentation',\n",
              " 'Lupus and other Connective Tissue diseases',\n",
              " 'Melanoma Skin Cancer Nevi and Moles',\n",
              " 'Nail Fungus and other Nail Disease',\n",
              " 'Poison Ivy Photos and other Contact Dermatitis',\n",
              " 'Psoriasis pictures Lichen Planus and related diseases',\n",
              " 'Scabies Lyme Disease and other Infestations and Bites',\n",
              " 'Seborrheic Keratoses and other Benign Tumors',\n",
              " 'Systemic Disease',\n",
              " 'Tinea Ringworm Candidiasis and other Fungal Infections',\n",
              " 'Urticaria Hives',\n",
              " 'Vascular Tumors',\n",
              " 'Vasculitis Photos',\n",
              " 'Warts Molluscum and other Viral Infections']"
            ]
          },
          "execution_count": 46,
          "metadata": {},
          "output_type": "execute_result"
        }
      ],
      "source": [
        "train_skin_types=os.listdir(train_dir)\n",
        "train_skin_types\n"
      ]
    },
    {
      "cell_type": "code",
      "execution_count": 47,
      "metadata": {
        "colab": {
          "base_uri": "https://localhost:8080/"
        },
        "id": "9sKlnaVKvXRS",
        "outputId": "3aabec1c-dc26-4d3e-b2d9-59557bc2860b"
      },
      "outputs": [
        {
          "name": "stdout",
          "output_type": "stream",
          "text": [
            "Number of skin types in train folder: 23\n"
          ]
        }
      ],
      "source": [
        "number_of_skin_types = len(train_skin_types)\n",
        "\n",
        "print(\"Number of skin types in train folder:\", number_of_skin_types)\n"
      ]
    },
    {
      "cell_type": "code",
      "execution_count": 48,
      "metadata": {
        "colab": {
          "base_uri": "https://localhost:8080/"
        },
        "id": "AP5ui9TkvfhC",
        "outputId": "13f0c37c-c726-4c58-d371-3ee9c9307a2d"
      },
      "outputs": [
        {
          "data": {
            "text/plain": [
              "['Acne and Rosacea Photos',\n",
              " 'Actinic Keratosis Basal Cell Carcinoma and other Malignant Lesions',\n",
              " 'Atopic Dermatitis Photos',\n",
              " 'Bullous Disease Photos',\n",
              " 'Cellulitis Impetigo and other Bacterial Infections',\n",
              " 'Eczema Photos',\n",
              " 'Exanthems and Drug Eruptions',\n",
              " 'Hair Loss Photos Alopecia and other Hair Diseases',\n",
              " 'Herpes HPV and other STDs Photos',\n",
              " 'Light Diseases and Disorders of Pigmentation',\n",
              " 'Lupus and other Connective Tissue diseases',\n",
              " 'Melanoma Skin Cancer Nevi and Moles',\n",
              " 'Nail Fungus and other Nail Disease',\n",
              " 'Poison Ivy Photos and other Contact Dermatitis',\n",
              " 'Psoriasis pictures Lichen Planus and related diseases',\n",
              " 'Scabies Lyme Disease and other Infestations and Bites',\n",
              " 'Seborrheic Keratoses and other Benign Tumors',\n",
              " 'Systemic Disease',\n",
              " 'Tinea Ringworm Candidiasis and other Fungal Infections',\n",
              " 'Urticaria Hives',\n",
              " 'Vascular Tumors',\n",
              " 'Vasculitis Photos',\n",
              " 'Warts Molluscum and other Viral Infections']"
            ]
          },
          "execution_count": 48,
          "metadata": {},
          "output_type": "execute_result"
        }
      ],
      "source": [
        "test_skin_types=os.listdir(test_dir)\n",
        "test_skin_types\n"
      ]
    },
    {
      "cell_type": "code",
      "execution_count": 49,
      "metadata": {
        "colab": {
          "base_uri": "https://localhost:8080/"
        },
        "id": "TPHwmsqZvgjS",
        "outputId": "477dc705-3c85-4b31-a72f-516e3ab73299"
      },
      "outputs": [
        {
          "name": "stdout",
          "output_type": "stream",
          "text": [
            "Number of skin types in test folder: 23\n"
          ]
        }
      ],
      "source": [
        "number_of_skin_types = len(test_skin_types)\n",
        "\n",
        "print(\"Number of skin types in test folder:\", number_of_skin_types)\n"
      ]
    },
    {
      "cell_type": "code",
      "execution_count": 50,
      "metadata": {
        "id": "-8DXGigVzUSH"
      },
      "outputs": [],
      "source": [
        "import os\n",
        "import cv2\n",
        "import pandas as pd\n",
        "import matplotlib.pyplot as plt\n",
        "import random\n",
        "from sklearn.model_selection import train_test_split\n",
        "\n",
        "# Define categories\n",
        "categories = {\n",
        "    'train': ['Acne and Rosacea Photos',\n",
        "              'Actinic Keratosis Basal Cell Carcinoma and other Malignant Lesions',\n",
        "              'Atopic Dermatitis Photos',\n",
        "              'Bullous Disease Photos',\n",
        "              'Cellulitis Impetigo and other Bacterial Infections',\n",
        "              'Eczema Photos',\n",
        "              'Exanthems and Drug Eruptions',\n",
        "              'Hair Loss Photos Alopecia and other Hair Diseases',\n",
        " 'Herpes HPV and other STDs Photos',\n",
        " 'Light Diseases and Disorders of Pigmentation'\n",
        "              ],\n",
        "    'test': ['Acne and Rosacea Photos',\n",
        "              'Actinic Keratosis Basal Cell Carcinoma and other Malignant Lesions',\n",
        "             'Atopic Dermatitis Photos',\n",
        "              'Bullous Disease Photos',\n",
        "              'Cellulitis Impetigo and other Bacterial Infections',\n",
        "             'Eczema Photos',\n",
        "            'Exanthems and Drug Eruptions',\n",
        "             'Hair Loss Photos Alopecia and other Hair Diseases',\n",
        " 'Herpes HPV and other STDs Photos',\n",
        " 'Light Diseases and Disorders of Pigmentation'\n",
        "             ]\n",
        "}\n",
        "\n",
        "# Define paths\n",
        "base_path = \"/content/drive/My Drive/ML-class/project/dataset\"\n",
        "train_path = os.path.join(base_path, \"train\")\n",
        "test_path = os.path.join(base_path, \"test\")\n",
        "\n",
        "# Function to load data\n",
        "def load_data(path, categories):\n",
        "    data = {\"image_path\": [], \"target\": []}\n",
        "    for idx, category in enumerate(categories):\n",
        "        category_path = os.path.join(path, category)\n",
        "        if os.path.isdir(category_path):  # Check if the path is a directory\n",
        "            for img_name in os.listdir(category_path):\n",
        "                if img_name.lower().endswith(('.png', '.jpg', '.jpeg', '.bmp', '.tif', '.tiff')):  # Check for image files\n",
        "                    img_path = os.path.join(category_path, img_name)\n",
        "                    data[\"image_path\"].append(img_path)\n",
        "                    data[\"target\"].append(idx)\n",
        "    return pd.DataFrame(data)\n",
        "\n",
        "# Load train and test data\n",
        "train_df = load_data(train_path, categories['train'])\n",
        "test_df = load_data(test_path, categories['test'])\n",
        "\n",
        "# Function to preprocess and load images\n",
        "def load_images(image_paths):\n",
        "    images = []\n",
        "    for img_path in image_paths:\n",
        "        img = cv2.imread(img_path)\n",
        "        img = cv2.cvtColor(img, cv2.COLOR_BGR2RGB)\n",
        "        img = cv2.resize(img, (180, 180))\n",
        "        img = img / 255.0  # Normalize pixel values to [0, 1]\n",
        "        images.append(img)\n",
        "    return images\n",
        "\n",
        "# Take a sample of the data for quick testing\n",
        "sample_train_df = train_df.sample(frac=0.3, random_state=42)\n",
        "sample_test_df = test_df.sample(frac=0.1, random_state=42)\n",
        "\n",
        "# Load images\n",
        "train_images = load_images(sample_train_df['image_path'])\n",
        "test_images = load_images(sample_test_df['image_path'])\n",
        "\n",
        "# # Display example images\n",
        "# example_imgs = random.sample(train_images, 6)\n",
        "# fig, axes = plt.subplots(2, 3, figsize=(10, 8))\n",
        "# for ax, img in zip(axes.ravel(), example_imgs):\n",
        "#     ax.imshow(img)\n",
        "#     ax.axis('off')\n",
        "# plt.show()\n"
      ]
    },
    {
      "cell_type": "code",
      "execution_count": 51,
      "metadata": {
        "colab": {
          "base_uri": "https://localhost:8080/"
        },
        "id": "ZRy_lgcA3DfA",
        "outputId": "451b21f1-109f-44d3-923b-89f043d45e5d"
      },
      "outputs": [
        {
          "name": "stderr",
          "output_type": "stream",
          "text": [
            "WARNING:tensorflow:`input_shape` is undefined or non-square, or `rows` is not in [96, 128, 160, 192, 224]. Weights for input shape (224, 224) will be loaded as the default.\n",
            "WARNING:absl:`lr` is deprecated in Keras optimizer, please use `learning_rate` or use the legacy optimizer, e.g.,tf.keras.optimizers.legacy.Adam.\n"
          ]
        }
      ],
      "source": [
        "import tensorflow as tf\n",
        "from tensorflow.keras import layers\n",
        "from tensorflow.keras.models import Sequential\n",
        "from tensorflow.keras.optimizers import Adam\n",
        "import numpy as np\n",
        "\n",
        "# Convert lists of images to numpy arrays\n",
        "train_images = np.array(train_images)\n",
        "test_images = np.array(test_images)\n",
        "\n",
        "# Convert lists of labels to numpy arrays\n",
        "train_labels = np.array(sample_train_df['target'])\n",
        "test_labels = np.array(sample_test_df['target'])\n",
        "\n",
        "# Split the training data into training and validation sets\n",
        "X_train, X_val, y_train, y_val = train_test_split(train_images, train_labels, test_size=0.2, random_state=42)\n",
        "\n",
        "# Data Augmentation\n",
        "data_augmentation = Sequential([\n",
        "    layers.experimental.preprocessing.RandomFlip('horizontal'),\n",
        "    layers.experimental.preprocessing.RandomRotation(0.2),\n",
        "    layers.experimental.preprocessing.RandomZoom(0.2),\n",
        "])\n",
        "\n",
        "# Create MobileNetV2 Model\n",
        "base_model = tf.keras.applications.MobileNetV2(input_shape=(180, 180, 3), include_top=False, weights='imagenet')\n",
        "base_model.trainable = False\n",
        "\n",
        "number_of_classes = 10  # Update this based on your dataset\n",
        "model = Sequential([\n",
        "    data_augmentation,\n",
        "    base_model,\n",
        "    layers.GlobalAveragePooling2D(),\n",
        "    layers.Dropout(0.2),\n",
        "    layers.Dense(number_of_classes, activation='softmax')\n",
        "])\n",
        "\n",
        "# # Compile the Model\n",
        "model.compile(optimizer=Adam(lr=0.001), loss='sparse_categorical_crossentropy', metrics=['accuracy'])\n",
        "\n"
      ]
    },
    {
      "cell_type": "code",
      "execution_count": 54,
      "metadata": {
        "colab": {
          "base_uri": "https://localhost:8080/"
        },
        "id": "hVd_cVzmb9dm",
        "outputId": "738c87de-25a9-4011-bf8a-59d90b504a77"
      },
      "outputs": [
        {
          "name": "stdout",
          "output_type": "stream",
          "text": [
            "Epoch 1/20\n",
            "46/46 [==============================] - 16s 146ms/step - loss: 2.4101 - accuracy: 0.2205 - val_loss: 1.9400 - val_accuracy: 0.3599\n",
            "Epoch 2/20\n",
            "46/46 [==============================] - 3s 62ms/step - loss: 2.0419 - accuracy: 0.3201 - val_loss: 1.8637 - val_accuracy: 0.3764\n",
            "Epoch 3/20\n",
            "46/46 [==============================] - 3s 62ms/step - loss: 1.8367 - accuracy: 0.3984 - val_loss: 1.7352 - val_accuracy: 0.3956\n",
            "Epoch 4/20\n",
            "46/46 [==============================] - 3s 60ms/step - loss: 1.7467 - accuracy: 0.3977 - val_loss: 1.7217 - val_accuracy: 0.4176\n",
            "Epoch 5/20\n",
            "46/46 [==============================] - 2s 52ms/step - loss: 1.7177 - accuracy: 0.4162 - val_loss: 1.6999 - val_accuracy: 0.4478\n",
            "Epoch 6/20\n",
            "46/46 [==============================] - 2s 46ms/step - loss: 1.6707 - accuracy: 0.4306 - val_loss: 1.6793 - val_accuracy: 0.4643\n",
            "Epoch 7/20\n",
            "46/46 [==============================] - 2s 52ms/step - loss: 1.6045 - accuracy: 0.4663 - val_loss: 1.6862 - val_accuracy: 0.4423\n",
            "Epoch 8/20\n",
            "46/46 [==============================] - 3s 57ms/step - loss: 1.5338 - accuracy: 0.4725 - val_loss: 1.7193 - val_accuracy: 0.4341\n",
            "Epoch 9/20\n",
            "46/46 [==============================] - 3s 59ms/step - loss: 1.5007 - accuracy: 0.4931 - val_loss: 1.6824 - val_accuracy: 0.4313\n",
            "Epoch 10/20\n",
            "46/46 [==============================] - 2s 48ms/step - loss: 1.4919 - accuracy: 0.5007 - val_loss: 1.6950 - val_accuracy: 0.4258\n",
            "Epoch 11/20\n",
            "46/46 [==============================] - 2s 46ms/step - loss: 1.4814 - accuracy: 0.4918 - val_loss: 1.7057 - val_accuracy: 0.4286\n",
            "Epoch 12/20\n",
            "46/46 [==============================] - 2s 46ms/step - loss: 1.4298 - accuracy: 0.5144 - val_loss: 1.7350 - val_accuracy: 0.4176\n",
            "Epoch 13/20\n",
            "46/46 [==============================] - 2s 46ms/step - loss: 1.4106 - accuracy: 0.5185 - val_loss: 1.6791 - val_accuracy: 0.4478\n",
            "Epoch 14/20\n",
            "46/46 [==============================] - 2s 46ms/step - loss: 1.4377 - accuracy: 0.5027 - val_loss: 1.7200 - val_accuracy: 0.4148\n",
            "Epoch 15/20\n",
            "46/46 [==============================] - 2s 52ms/step - loss: 1.3748 - accuracy: 0.5220 - val_loss: 1.7049 - val_accuracy: 0.4341\n",
            "Epoch 16/20\n",
            "46/46 [==============================] - 3s 57ms/step - loss: 1.3517 - accuracy: 0.5495 - val_loss: 1.7095 - val_accuracy: 0.4258\n",
            "Epoch 17/20\n",
            "46/46 [==============================] - 3s 55ms/step - loss: 1.3400 - accuracy: 0.5343 - val_loss: 1.7352 - val_accuracy: 0.4313\n",
            "Epoch 18/20\n",
            "46/46 [==============================] - 2s 46ms/step - loss: 1.3203 - accuracy: 0.5460 - val_loss: 1.6988 - val_accuracy: 0.4313\n",
            "Epoch 19/20\n",
            "46/46 [==============================] - 2s 46ms/step - loss: 1.3191 - accuracy: 0.5446 - val_loss: 1.7262 - val_accuracy: 0.4341\n",
            "Epoch 20/20\n",
            "46/46 [==============================] - 2s 52ms/step - loss: 1.3258 - accuracy: 0.5385 - val_loss: 1.7464 - val_accuracy: 0.4286\n"
          ]
        }
      ],
      "source": [
        "#Train the Model\n",
        "history = model.fit(X_train, y_train, epochs=20, validation_data=(X_val, y_val), batch_size=32)\n",
        "\n"
      ]
    },
    {
      "cell_type": "code",
      "execution_count": 55,
      "metadata": {
        "colab": {
          "base_uri": "https://localhost:8080/"
        },
        "id": "Aa8YJIFEcql6",
        "outputId": "8639d4fd-51fc-4a8c-ab04-1ceaf737066b"
      },
      "outputs": [
        {
          "name": "stdout",
          "output_type": "stream",
          "text": [
            "6/6 [==============================] - 1s 119ms/step - loss: 1.7988 - accuracy: 0.4074\n",
            "Test accuracy:  0.40740740299224854\n"
          ]
        }
      ],
      "source": [
        "# Evaluate the Model\n",
        "loss, accuracy = model.evaluate(test_images, test_labels)\n",
        "print(\"Test accuracy: \", accuracy)"
      ]
    },
    {
      "cell_type": "code",
      "execution_count": 56,
      "metadata": {
        "colab": {
          "base_uri": "https://localhost:8080/"
        },
        "id": "mQzdlwimUIvU",
        "outputId": "4a68edbc-e990-4371-a67f-445ae10163ee"
      },
      "outputs": [
        {
          "name": "stdout",
          "output_type": "stream",
          "text": [
            "1/1 [==============================] - 1s 1s/step\n",
            "Actinic Keratosis Basal Cell Carcinoma and other Malignant Lesions\n",
            "Prediction probabilities: [[6.3543963e-01 1.1390808e-01 2.0755485e-03 1.6967784e-01 3.9399615e-03\n",
            "  4.0156923e-02 9.6932193e-04 2.1530569e-03 2.1220968e-04 3.1467479e-02]]\n"
          ]
        }
      ],
      "source": [
        "def predict_skin_disease(image_path):\n",
        "    # Define list of class names\n",
        "    class_names = ['Actinic Keratosis Basal Cell Carcinoma and other Malignant Lesions',\n",
        "                   'Acne and Rosacea Photos','Atopic Dermatitis Photos',\n",
        "                    'Bullous Disease Photos',\n",
        "                    'Cellulitis Impetigo and other Bacterial Infections',\n",
        "             'Eczema Photos',\n",
        "            'Exanthems and Drug Eruptions',\n",
        "                   'Hair Loss Photos Alopecia and other Hair Diseases',\n",
        " 'Herpes HPV and other STDs Photos',\n",
        " 'Light Diseases and Disorders of Pigmentation'\n",
        "                  ]\n",
        "\n",
        "    # Load and preprocess image\n",
        "    img = cv2.imread(image_path)\n",
        "    img = cv2.cvtColor(img, cv2.COLOR_BGR2RGB)\n",
        "    img = cv2.resize(img, (180, 180))\n",
        "    img = np.array(img) / 255.0\n",
        "    img = np.expand_dims(img, axis=0)\n",
        "\n",
        "    # Make prediction on preprocessed image\n",
        "    pred = model.predict(img)\n",
        "    predicted_class_index = np.argmax(pred)\n",
        "    predicted_class_name = class_names[predicted_class_index]\n",
        "\n",
        "    return predicted_class_name, pred\n",
        "\n",
        "img_path = test_dir+'/Actinic Keratosis Basal Cell Carcinoma and other Malignant Lesions/actinic-cheilitis-sq-cell-lip-6.jpg'\n",
        "predicted_class, pred = predict_skin_disease(img_path)\n",
        "print(predicted_class)\n",
        "print(\"Prediction probabilities:\", pred)\n",
        "\n"
      ]
    },
    {
      "cell_type": "code",
      "execution_count": 58,
      "metadata": {
        "colab": {
          "base_uri": "https://localhost:8080/"
        },
        "id": "MUociuzqWT79",
        "outputId": "260abcf7-4bab-49e0-c64e-ee95d769287e"
      },
      "outputs": [
        {
          "name": "stdout",
          "output_type": "stream",
          "text": [
            "Requirement already satisfied: scikit-image in /usr/local/lib/python3.10/dist-packages (0.19.3)\n",
            "Requirement already satisfied: numpy>=1.17.0 in /usr/local/lib/python3.10/dist-packages (from scikit-image) (1.23.5)\n",
            "Requirement already satisfied: scipy>=1.4.1 in /usr/local/lib/python3.10/dist-packages (from scikit-image) (1.11.3)\n",
            "Requirement already satisfied: networkx>=2.2 in /usr/local/lib/python3.10/dist-packages (from scikit-image) (3.2.1)\n",
            "Requirement already satisfied: pillow!=7.1.0,!=7.1.1,!=8.3.0,>=6.1.0 in /usr/local/lib/python3.10/dist-packages (from scikit-image) (9.4.0)\n",
            "Requirement already satisfied: imageio>=2.4.1 in /usr/local/lib/python3.10/dist-packages (from scikit-image) (2.31.6)\n",
            "Requirement already satisfied: tifffile>=2019.7.26 in /usr/local/lib/python3.10/dist-packages (from scikit-image) (2023.9.26)\n",
            "Requirement already satisfied: PyWavelets>=1.1.1 in /usr/local/lib/python3.10/dist-packages (from scikit-image) (1.4.1)\n",
            "Requirement already satisfied: packaging>=20.0 in /usr/local/lib/python3.10/dist-packages (from scikit-image) (23.2)\n"
          ]
        }
      ],
      "source": [
        "!pip install scikit-image\n"
      ]
    },
    {
      "cell_type": "markdown",
      "metadata": {
        "id": "UTKAXX-kgK2A"
      },
      "source": [
        "**SVM**"
      ]
    },
    {
      "cell_type": "code",
      "execution_count": 59,
      "metadata": {
        "colab": {
          "base_uri": "https://localhost:8080/"
        },
        "id": "ZgrXUhWzZKN2",
        "outputId": "73e5fabf-d7a2-417d-c22c-e3ccb1014285"
      },
      "outputs": [
        {
          "name": "stderr",
          "output_type": "stream",
          "text": [
            "<ipython-input-59-2d7f6c5accad>:11: FutureWarning: `multichannel` is a deprecated argument name for `hog`. It will be removed in version 1.0. Please use `channel_axis` instead.\n",
            "  features = hog(image, pixels_per_cell=(8, 8), cells_per_block=(2, 2), multichannel=True)\n"
          ]
        },
        {
          "name": "stdout",
          "output_type": "stream",
          "text": [
            "Classification report for SVM classifier:\n",
            "              precision    recall  f1-score   support\n",
            "\n",
            "           0       0.53      0.53      0.53        38\n",
            "           1       0.32      0.48      0.38        31\n",
            "           2       0.60      0.25      0.35        12\n",
            "           3       0.33      0.33      0.33         9\n",
            "           4       0.00      0.00      0.00         4\n",
            "           5       0.36      0.52      0.42        27\n",
            "           6       0.38      0.18      0.24        17\n",
            "           7       0.00      0.00      0.00         4\n",
            "           8       0.00      0.00      0.00         7\n",
            "           9       0.20      0.15      0.17        13\n",
            "\n",
            "    accuracy                           0.37       162\n",
            "   macro avg       0.27      0.24      0.24       162\n",
            "weighted avg       0.36      0.37      0.35       162\n",
            "\n",
            "Test accuracy:  0.37037037037037035\n"
          ]
        },
        {
          "name": "stderr",
          "output_type": "stream",
          "text": [
            "/usr/local/lib/python3.10/dist-packages/sklearn/metrics/_classification.py:1344: UndefinedMetricWarning: Precision and F-score are ill-defined and being set to 0.0 in labels with no predicted samples. Use `zero_division` parameter to control this behavior.\n",
            "  _warn_prf(average, modifier, msg_start, len(result))\n",
            "/usr/local/lib/python3.10/dist-packages/sklearn/metrics/_classification.py:1344: UndefinedMetricWarning: Precision and F-score are ill-defined and being set to 0.0 in labels with no predicted samples. Use `zero_division` parameter to control this behavior.\n",
            "  _warn_prf(average, modifier, msg_start, len(result))\n",
            "/usr/local/lib/python3.10/dist-packages/sklearn/metrics/_classification.py:1344: UndefinedMetricWarning: Precision and F-score are ill-defined and being set to 0.0 in labels with no predicted samples. Use `zero_division` parameter to control this behavior.\n",
            "  _warn_prf(average, modifier, msg_start, len(result))\n"
          ]
        }
      ],
      "source": [
        "from skimage.feature import hog\n",
        "from sklearn import svm\n",
        "from sklearn.metrics import classification_report, accuracy_score\n",
        "from sklearn.preprocessing import StandardScaler\n",
        "from sklearn.decomposition import PCA\n",
        "\n",
        "# Function to extract HOG features from a list of images\n",
        "def extract_hog_features(images):\n",
        "    hog_features = []\n",
        "    for image in images:\n",
        "        features = hog(image, pixels_per_cell=(8, 8), cells_per_block=(2, 2), multichannel=True)\n",
        "        hog_features.append(features)\n",
        "    return hog_features\n",
        "\n",
        "# Extract HOG features\n",
        "train_hog_features = extract_hog_features(train_images)\n",
        "test_hog_features = extract_hog_features(test_images)\n",
        "\n",
        "# Normalize the features - important for SVM\n",
        "scaler = StandardScaler()\n",
        "train_hog_features = scaler.fit_transform(train_hog_features)\n",
        "test_hog_features = scaler.transform(test_hog_features)\n",
        "\n",
        "# Reduce the dimensionality of the features\n",
        "pca = PCA(n_components=0.9) # Retain 90% of the variance\n",
        "train_hog_features_pca = pca.fit_transform(train_hog_features)\n",
        "test_hog_features_pca = pca.transform(test_hog_features)\n",
        "\n",
        "# Train an SVM model\n",
        "svm_model = svm.SVC(kernel='linear', C=1.0, random_state=42)\n",
        "svm_model.fit(train_hog_features_pca, train_labels)\n",
        "\n",
        "# Predict on the test set\n",
        "svm_predictions = svm_model.predict(test_hog_features_pca)\n",
        "\n",
        "# Evaluate the model\n",
        "print(\"Classification report for SVM classifier:\")\n",
        "print(classification_report(test_labels, svm_predictions))\n",
        "print(\"Test accuracy: \", accuracy_score(test_labels, svm_predictions))\n"
      ]
    },
    {
      "cell_type": "code",
      "execution_count": 60,
      "metadata": {
        "colab": {
          "base_uri": "https://localhost:8080/"
        },
        "id": "zhCO9395fzHS",
        "outputId": "e20afc9a-5f62-408b-e87f-7a86b4122e46"
      },
      "outputs": [
        {
          "name": "stdout",
          "output_type": "stream",
          "text": [
            "The predicted class is: Acne and Rosacea Photos\n"
          ]
        },
        {
          "name": "stderr",
          "output_type": "stream",
          "text": [
            "<ipython-input-60-9e02d4b977ee>:9: FutureWarning: `multichannel` is a deprecated argument name for `hog`. It will be removed in version 1.0. Please use `channel_axis` instead.\n",
            "  features = hog(img, pixels_per_cell=(8, 8), cells_per_block=(2, 2), multichannel=True)\n"
          ]
        }
      ],
      "source": [
        "def predict_image_class(image_path, scaler, pca, svm_model, class_names):\n",
        "    # Load and preprocess the image\n",
        "    img = cv2.imread(image_path)\n",
        "    img = cv2.cvtColor(img, cv2.COLOR_BGR2RGB)\n",
        "    img = cv2.resize(img, (180, 180)) # Resize to the size expected by the model\n",
        "    img = img / 255.0  # Normalize pixel values to [0, 1]\n",
        "\n",
        "    # Extract HOG features\n",
        "    features = hog(img, pixels_per_cell=(8, 8), cells_per_block=(2, 2), multichannel=True)\n",
        "\n",
        "    # Normalize the features using the same scaler used during training\n",
        "    features = scaler.transform([features])\n",
        "\n",
        "    # Reduce the dimensionality using PCA used during training\n",
        "    features_pca = pca.transform(features)\n",
        "\n",
        "    # Predict using the SVM model\n",
        "    prediction = svm_model.predict(features_pca)\n",
        "    predicted_class = class_names[prediction[0]]\n",
        "\n",
        "    return predicted_class\n",
        "\n",
        "# Assuming class_names is a list of string labels for each class, for example:\n",
        "class_names = ['Actinic Keratosis Basal Cell Carcinoma and other Malignant Lesions',\n",
        "                   'Acne and Rosacea Photos','Atopic Dermatitis Photos',\n",
        "                    'Bullous Disease Photos',\n",
        "                    'Cellulitis Impetigo and other Bacterial Infections', 'Eczema Photos',\n",
        "              'Exanthems and Drug Eruptions',\n",
        "               'Hair Loss Photos Alopecia and other Hair Diseases',\n",
        " 'Herpes HPV and other STDs Photos',\n",
        " 'Light Diseases and Disorders of Pigmentation'\n",
        "              ]\n",
        "\n",
        "# Example usage:\n",
        "img_path = test_dir+'/Actinic Keratosis Basal Cell Carcinoma and other Malignant Lesions/actinic-cheilitis-sq-cell-lip-6.jpg'\n",
        "predicted_class = predict_image_class(img_path, scaler, pca, svm_model, class_names)\n",
        "print(f'The predicted class is: {predicted_class}')\n"
      ]
    },
    {
      "cell_type": "markdown",
      "metadata": {
        "id": "wFVrYHRBjrYw"
      },
      "source": [
        "**Reference:**\n",
        "\n",
        "1. https://www.kaggle.com/code/ishaanchandak301/skin-detection-acc-98"
      ]
    }
  ],
  "metadata": {
    "accelerator": "GPU",
    "colab": {
      "gpuType": "T4",
      "provenance": []
    },
    "kernelspec": {
      "display_name": "Python 3",
      "name": "python3"
    },
    "language_info": {
      "name": "python"
    }
  },
  "nbformat": 4,
  "nbformat_minor": 0
}
