{
  "cells": [
    {
      "cell_type": "code",
      "execution_count": 1,
      "metadata": {
        "colab": {
          "base_uri": "https://localhost:8080/"
        },
        "id": "JYATNbzeXLUx",
        "outputId": "d917101b-1a2a-4bb4-9990-6b35795e2743"
      },
      "outputs": [
        {
          "output_type": "stream",
          "name": "stdout",
          "text": [
            "Requirement already satisfied: tensorflow in /usr/local/lib/python3.10/dist-packages (2.14.0)\n",
            "Requirement already satisfied: absl-py>=1.0.0 in /usr/local/lib/python3.10/dist-packages (from tensorflow) (1.4.0)\n",
            "Requirement already satisfied: astunparse>=1.6.0 in /usr/local/lib/python3.10/dist-packages (from tensorflow) (1.6.3)\n",
            "Requirement already satisfied: flatbuffers>=23.5.26 in /usr/local/lib/python3.10/dist-packages (from tensorflow) (23.5.26)\n",
            "Requirement already satisfied: gast!=0.5.0,!=0.5.1,!=0.5.2,>=0.2.1 in /usr/local/lib/python3.10/dist-packages (from tensorflow) (0.5.4)\n",
            "Requirement already satisfied: google-pasta>=0.1.1 in /usr/local/lib/python3.10/dist-packages (from tensorflow) (0.2.0)\n",
            "Requirement already satisfied: h5py>=2.9.0 in /usr/local/lib/python3.10/dist-packages (from tensorflow) (3.9.0)\n",
            "Requirement already satisfied: libclang>=13.0.0 in /usr/local/lib/python3.10/dist-packages (from tensorflow) (16.0.6)\n",
            "Requirement already satisfied: ml-dtypes==0.2.0 in /usr/local/lib/python3.10/dist-packages (from tensorflow) (0.2.0)\n",
            "Requirement already satisfied: numpy>=1.23.5 in /usr/local/lib/python3.10/dist-packages (from tensorflow) (1.23.5)\n",
            "Requirement already satisfied: opt-einsum>=2.3.2 in /usr/local/lib/python3.10/dist-packages (from tensorflow) (3.3.0)\n",
            "Requirement already satisfied: packaging in /usr/local/lib/python3.10/dist-packages (from tensorflow) (23.2)\n",
            "Requirement already satisfied: protobuf!=4.21.0,!=4.21.1,!=4.21.2,!=4.21.3,!=4.21.4,!=4.21.5,<5.0.0dev,>=3.20.3 in /usr/local/lib/python3.10/dist-packages (from tensorflow) (3.20.3)\n",
            "Requirement already satisfied: setuptools in /usr/local/lib/python3.10/dist-packages (from tensorflow) (67.7.2)\n",
            "Requirement already satisfied: six>=1.12.0 in /usr/local/lib/python3.10/dist-packages (from tensorflow) (1.16.0)\n",
            "Requirement already satisfied: termcolor>=1.1.0 in /usr/local/lib/python3.10/dist-packages (from tensorflow) (2.3.0)\n",
            "Requirement already satisfied: typing-extensions>=3.6.6 in /usr/local/lib/python3.10/dist-packages (from tensorflow) (4.5.0)\n",
            "Requirement already satisfied: wrapt<1.15,>=1.11.0 in /usr/local/lib/python3.10/dist-packages (from tensorflow) (1.14.1)\n",
            "Requirement already satisfied: tensorflow-io-gcs-filesystem>=0.23.1 in /usr/local/lib/python3.10/dist-packages (from tensorflow) (0.34.0)\n",
            "Requirement already satisfied: grpcio<2.0,>=1.24.3 in /usr/local/lib/python3.10/dist-packages (from tensorflow) (1.59.2)\n",
            "Requirement already satisfied: tensorboard<2.15,>=2.14 in /usr/local/lib/python3.10/dist-packages (from tensorflow) (2.14.1)\n",
            "Requirement already satisfied: tensorflow-estimator<2.15,>=2.14.0 in /usr/local/lib/python3.10/dist-packages (from tensorflow) (2.14.0)\n",
            "Requirement already satisfied: keras<2.15,>=2.14.0 in /usr/local/lib/python3.10/dist-packages (from tensorflow) (2.14.0)\n",
            "Requirement already satisfied: wheel<1.0,>=0.23.0 in /usr/local/lib/python3.10/dist-packages (from astunparse>=1.6.0->tensorflow) (0.41.3)\n",
            "Requirement already satisfied: google-auth<3,>=1.6.3 in /usr/local/lib/python3.10/dist-packages (from tensorboard<2.15,>=2.14->tensorflow) (2.17.3)\n",
            "Requirement already satisfied: google-auth-oauthlib<1.1,>=0.5 in /usr/local/lib/python3.10/dist-packages (from tensorboard<2.15,>=2.14->tensorflow) (1.0.0)\n",
            "Requirement already satisfied: markdown>=2.6.8 in /usr/local/lib/python3.10/dist-packages (from tensorboard<2.15,>=2.14->tensorflow) (3.5.1)\n",
            "Requirement already satisfied: requests<3,>=2.21.0 in /usr/local/lib/python3.10/dist-packages (from tensorboard<2.15,>=2.14->tensorflow) (2.31.0)\n",
            "Requirement already satisfied: tensorboard-data-server<0.8.0,>=0.7.0 in /usr/local/lib/python3.10/dist-packages (from tensorboard<2.15,>=2.14->tensorflow) (0.7.2)\n",
            "Requirement already satisfied: werkzeug>=1.0.1 in /usr/local/lib/python3.10/dist-packages (from tensorboard<2.15,>=2.14->tensorflow) (3.0.1)\n",
            "Requirement already satisfied: cachetools<6.0,>=2.0.0 in /usr/local/lib/python3.10/dist-packages (from google-auth<3,>=1.6.3->tensorboard<2.15,>=2.14->tensorflow) (5.3.2)\n",
            "Requirement already satisfied: pyasn1-modules>=0.2.1 in /usr/local/lib/python3.10/dist-packages (from google-auth<3,>=1.6.3->tensorboard<2.15,>=2.14->tensorflow) (0.3.0)\n",
            "Requirement already satisfied: rsa<5,>=3.1.4 in /usr/local/lib/python3.10/dist-packages (from google-auth<3,>=1.6.3->tensorboard<2.15,>=2.14->tensorflow) (4.9)\n",
            "Requirement already satisfied: requests-oauthlib>=0.7.0 in /usr/local/lib/python3.10/dist-packages (from google-auth-oauthlib<1.1,>=0.5->tensorboard<2.15,>=2.14->tensorflow) (1.3.1)\n",
            "Requirement already satisfied: charset-normalizer<4,>=2 in /usr/local/lib/python3.10/dist-packages (from requests<3,>=2.21.0->tensorboard<2.15,>=2.14->tensorflow) (3.3.2)\n",
            "Requirement already satisfied: idna<4,>=2.5 in /usr/local/lib/python3.10/dist-packages (from requests<3,>=2.21.0->tensorboard<2.15,>=2.14->tensorflow) (3.4)\n",
            "Requirement already satisfied: urllib3<3,>=1.21.1 in /usr/local/lib/python3.10/dist-packages (from requests<3,>=2.21.0->tensorboard<2.15,>=2.14->tensorflow) (2.0.7)\n",
            "Requirement already satisfied: certifi>=2017.4.17 in /usr/local/lib/python3.10/dist-packages (from requests<3,>=2.21.0->tensorboard<2.15,>=2.14->tensorflow) (2023.7.22)\n",
            "Requirement already satisfied: MarkupSafe>=2.1.1 in /usr/local/lib/python3.10/dist-packages (from werkzeug>=1.0.1->tensorboard<2.15,>=2.14->tensorflow) (2.1.3)\n",
            "Requirement already satisfied: pyasn1<0.6.0,>=0.4.6 in /usr/local/lib/python3.10/dist-packages (from pyasn1-modules>=0.2.1->google-auth<3,>=1.6.3->tensorboard<2.15,>=2.14->tensorflow) (0.5.0)\n",
            "Requirement already satisfied: oauthlib>=3.0.0 in /usr/local/lib/python3.10/dist-packages (from requests-oauthlib>=0.7.0->google-auth-oauthlib<1.1,>=0.5->tensorboard<2.15,>=2.14->tensorflow) (3.2.2)\n"
          ]
        }
      ],
      "source": [
        "!pip install tensorflow\n"
      ]
    },
    {
      "cell_type": "code",
      "execution_count": 2,
      "metadata": {
        "id": "OpqCxFQdXTI_"
      },
      "outputs": [],
      "source": [
        "import tensorflow as tf\n",
        "from tensorflow.keras.preprocessing.image import ImageDataGenerator\n",
        "from tensorflow.keras.applications import MobileNetV2\n",
        "from tensorflow.keras import layers, models\n",
        "from tensorflow.keras.optimizers import Adam\n",
        "import tensorflow as tf\n",
        "from tensorflow.keras import layers\n",
        "from tensorflow.keras.models import Sequential\n",
        "from tensorflow.keras.optimizers import Adam\n",
        "import numpy as np"
      ]
    },
    {
      "cell_type": "code",
      "execution_count": 3,
      "metadata": {
        "colab": {
          "base_uri": "https://localhost:8080/"
        },
        "id": "iUkp4LdEXU_4",
        "outputId": "7fd70c66-c0d2-4102-a7e3-5933c7900930"
      },
      "outputs": [
        {
          "output_type": "stream",
          "name": "stdout",
          "text": [
            "Drive already mounted at /content/drive; to attempt to forcibly remount, call drive.mount(\"/content/drive\", force_remount=True).\n"
          ]
        }
      ],
      "source": [
        "from google.colab import drive\n",
        "drive.mount('/content/drive')\n"
      ]
    },
    {
      "cell_type": "code",
      "execution_count": 4,
      "metadata": {
        "id": "yZvxt274XXJz"
      },
      "outputs": [],
      "source": [
        "import os\n",
        "os.chdir('/content/drive/My Drive/ML-class/project/dataset')\n"
      ]
    },
    {
      "cell_type": "code",
      "execution_count": 5,
      "metadata": {
        "id": "YEz4XaIxutyK"
      },
      "outputs": [],
      "source": [
        "train_dir = \"/content/drive/My Drive/ML-class/project/dataset/train\"\n",
        "test_dir = \"/content/drive/My Drive/ML-class/project/dataset/test\""
      ]
    },
    {
      "cell_type": "code",
      "execution_count": 6,
      "metadata": {
        "colab": {
          "base_uri": "https://localhost:8080/"
        },
        "id": "4tqgBlzUu60Z",
        "outputId": "157df4f2-459e-474d-bbc3-6a8ca9f4ade3"
      },
      "outputs": [
        {
          "output_type": "execute_result",
          "data": {
            "text/plain": [
              "['Acne and Rosacea Photos',\n",
              " 'Actinic Keratosis Basal Cell Carcinoma and other Malignant Lesions',\n",
              " 'Atopic Dermatitis Photos',\n",
              " 'Bullous Disease Photos',\n",
              " 'Cellulitis Impetigo and other Bacterial Infections',\n",
              " 'Eczema Photos',\n",
              " 'Exanthems and Drug Eruptions',\n",
              " 'Hair Loss Photos Alopecia and other Hair Diseases',\n",
              " 'Herpes HPV and other STDs Photos',\n",
              " 'Light Diseases and Disorders of Pigmentation',\n",
              " 'Lupus and other Connective Tissue diseases',\n",
              " 'Melanoma Skin Cancer Nevi and Moles',\n",
              " 'Nail Fungus and other Nail Disease',\n",
              " 'Poison Ivy Photos and other Contact Dermatitis',\n",
              " 'Psoriasis pictures Lichen Planus and related diseases',\n",
              " 'Scabies Lyme Disease and other Infestations and Bites',\n",
              " 'Seborrheic Keratoses and other Benign Tumors',\n",
              " 'Systemic Disease',\n",
              " 'Tinea Ringworm Candidiasis and other Fungal Infections',\n",
              " 'Urticaria Hives',\n",
              " 'Vascular Tumors',\n",
              " 'Vasculitis Photos',\n",
              " 'Warts Molluscum and other Viral Infections']"
            ]
          },
          "metadata": {},
          "execution_count": 6
        }
      ],
      "source": [
        "train_skin_types=os.listdir(train_dir)\n",
        "train_skin_types\n"
      ]
    },
    {
      "cell_type": "code",
      "execution_count": 7,
      "metadata": {
        "colab": {
          "base_uri": "https://localhost:8080/"
        },
        "id": "9sKlnaVKvXRS",
        "outputId": "7d3e0eae-fa8d-4b19-e80d-990ed8caec18"
      },
      "outputs": [
        {
          "output_type": "stream",
          "name": "stdout",
          "text": [
            "Number of skin types in train folder: 23\n"
          ]
        }
      ],
      "source": [
        "number_of_skin_types = len(train_skin_types)\n",
        "\n",
        "print(\"Number of skin types in train folder:\", number_of_skin_types)\n"
      ]
    },
    {
      "cell_type": "code",
      "execution_count": 8,
      "metadata": {
        "colab": {
          "base_uri": "https://localhost:8080/"
        },
        "id": "AP5ui9TkvfhC",
        "outputId": "4de4a31c-a9b1-4bd8-98f8-90de2077390c"
      },
      "outputs": [
        {
          "output_type": "execute_result",
          "data": {
            "text/plain": [
              "['Acne and Rosacea Photos',\n",
              " 'Actinic Keratosis Basal Cell Carcinoma and other Malignant Lesions',\n",
              " 'Atopic Dermatitis Photos',\n",
              " 'Bullous Disease Photos',\n",
              " 'Cellulitis Impetigo and other Bacterial Infections',\n",
              " 'Eczema Photos',\n",
              " 'Exanthems and Drug Eruptions',\n",
              " 'Hair Loss Photos Alopecia and other Hair Diseases',\n",
              " 'Herpes HPV and other STDs Photos',\n",
              " 'Light Diseases and Disorders of Pigmentation',\n",
              " 'Lupus and other Connective Tissue diseases',\n",
              " 'Melanoma Skin Cancer Nevi and Moles',\n",
              " 'Nail Fungus and other Nail Disease',\n",
              " 'Poison Ivy Photos and other Contact Dermatitis',\n",
              " 'Psoriasis pictures Lichen Planus and related diseases',\n",
              " 'Scabies Lyme Disease and other Infestations and Bites',\n",
              " 'Seborrheic Keratoses and other Benign Tumors',\n",
              " 'Systemic Disease',\n",
              " 'Tinea Ringworm Candidiasis and other Fungal Infections',\n",
              " 'Urticaria Hives',\n",
              " 'Vascular Tumors',\n",
              " 'Vasculitis Photos',\n",
              " 'Warts Molluscum and other Viral Infections']"
            ]
          },
          "metadata": {},
          "execution_count": 8
        }
      ],
      "source": [
        "test_skin_types=os.listdir(test_dir)\n",
        "test_skin_types\n"
      ]
    },
    {
      "cell_type": "code",
      "execution_count": 9,
      "metadata": {
        "colab": {
          "base_uri": "https://localhost:8080/"
        },
        "id": "TPHwmsqZvgjS",
        "outputId": "7bf42cdf-b800-4220-ffe4-09aa91677203"
      },
      "outputs": [
        {
          "output_type": "stream",
          "name": "stdout",
          "text": [
            "Number of skin types in test folder: 23\n"
          ]
        }
      ],
      "source": [
        "number_of_skin_types = len(test_skin_types)\n",
        "\n",
        "print(\"Number of skin types in test folder:\", number_of_skin_types)\n"
      ]
    },
    {
      "cell_type": "code",
      "execution_count": 10,
      "metadata": {
        "id": "-8DXGigVzUSH"
      },
      "outputs": [],
      "source": [
        "import os\n",
        "import cv2\n",
        "import pandas as pd\n",
        "import matplotlib.pyplot as plt\n",
        "import random\n",
        "from sklearn.model_selection import train_test_split\n",
        "\n",
        "# Define categories\n",
        "categories = {\n",
        "    'train': ['Acne and Rosacea Photos',\n",
        "              'Actinic Keratosis Basal Cell Carcinoma and other Malignant Lesions',\n",
        "              'Atopic Dermatitis Photos',\n",
        "              'Bullous Disease Photos',\n",
        "              'Cellulitis Impetigo and other Bacterial Infections',\n",
        "              'Eczema Photos',\n",
        "              'Exanthems and Drug Eruptions',\n",
        "              'Hair Loss Photos Alopecia and other Hair Diseases',\n",
        " 'Herpes HPV and other STDs Photos',\n",
        " 'Light Diseases and Disorders of Pigmentation'\n",
        "              ],\n",
        "    'test': ['Acne and Rosacea Photos',\n",
        "              'Actinic Keratosis Basal Cell Carcinoma and other Malignant Lesions',\n",
        "             'Atopic Dermatitis Photos',\n",
        "              'Bullous Disease Photos',\n",
        "              'Cellulitis Impetigo and other Bacterial Infections',\n",
        "             'Eczema Photos',\n",
        "            'Exanthems and Drug Eruptions',\n",
        "             'Hair Loss Photos Alopecia and other Hair Diseases',\n",
        " 'Herpes HPV and other STDs Photos',\n",
        " 'Light Diseases and Disorders of Pigmentation'\n",
        "             ]\n",
        "}\n",
        "\n",
        "# Define paths\n",
        "base_path = \"/content/drive/My Drive/ML-class/project/dataset\"\n",
        "train_path = os.path.join(base_path, \"train\")\n",
        "test_path = os.path.join(base_path, \"test\")\n",
        "\n",
        "# Function to load data\n",
        "def load_data(path, categories):\n",
        "    data = {\"image_path\": [], \"target\": []}\n",
        "    for idx, category in enumerate(categories):\n",
        "        category_path = os.path.join(path, category)\n",
        "        if os.path.isdir(category_path):  # Check if the path is a directory\n",
        "            for img_name in os.listdir(category_path):\n",
        "                if img_name.lower().endswith(('.png', '.jpg', '.jpeg', '.bmp', '.tif', '.tiff')):  # Check for image files\n",
        "                    img_path = os.path.join(category_path, img_name)\n",
        "                    data[\"image_path\"].append(img_path)\n",
        "                    data[\"target\"].append(idx)\n",
        "    return pd.DataFrame(data)\n",
        "\n",
        "# Load train and test data\n",
        "train_df = load_data(train_path, categories['train'])\n",
        "test_df = load_data(test_path, categories['test'])\n",
        "\n",
        "# Function to preprocess and load images\n",
        "def load_images(image_paths):\n",
        "    images = []\n",
        "    for img_path in image_paths:\n",
        "        img = cv2.imread(img_path)\n",
        "        img = cv2.cvtColor(img, cv2.COLOR_BGR2RGB)\n",
        "        img = cv2.resize(img, (180, 180))\n",
        "        img = img / 255.0  # Normalize pixel values to [0, 1]\n",
        "        images.append(img)\n",
        "    return images\n",
        "\n",
        "# Take a sample of the data for quick testing\n",
        "sample_train_df = train_df.sample(frac=0.3, random_state=42)\n",
        "sample_test_df = test_df.sample(frac=0.1, random_state=42)\n",
        "\n",
        "# Load images\n",
        "train_images = load_images(sample_train_df['image_path'])\n",
        "test_images = load_images(sample_test_df['image_path'])\n",
        "\n",
        "# # Display example images\n",
        "# example_imgs = random.sample(train_images, 6)\n",
        "# fig, axes = plt.subplots(2, 3, figsize=(10, 8))\n",
        "# for ax, img in zip(axes.ravel(), example_imgs):\n",
        "#     ax.imshow(img)\n",
        "#     ax.axis('off')\n",
        "# plt.show()\n"
      ]
    },
    {
      "cell_type": "code",
      "execution_count": 11,
      "metadata": {
        "colab": {
          "base_uri": "https://localhost:8080/"
        },
        "id": "ZRy_lgcA3DfA",
        "outputId": "9adae8c3-045e-487d-e1b5-23ac5ab5db16"
      },
      "outputs": [
        {
          "output_type": "stream",
          "name": "stderr",
          "text": [
            "WARNING:tensorflow:`input_shape` is undefined or non-square, or `rows` is not in [96, 128, 160, 192, 224]. Weights for input shape (224, 224) will be loaded as the default.\n"
          ]
        },
        {
          "output_type": "stream",
          "name": "stdout",
          "text": [
            "Downloading data from https://storage.googleapis.com/tensorflow/keras-applications/mobilenet_v2/mobilenet_v2_weights_tf_dim_ordering_tf_kernels_1.0_224_no_top.h5\n",
            "9406464/9406464 [==============================] - 0s 0us/step\n"
          ]
        },
        {
          "output_type": "stream",
          "name": "stderr",
          "text": [
            "WARNING:absl:`lr` is deprecated in Keras optimizer, please use `learning_rate` or use the legacy optimizer, e.g.,tf.keras.optimizers.legacy.Adam.\n"
          ]
        }
      ],
      "source": [
        "\n",
        "\n",
        "# Convert lists of images to numpy arrays\n",
        "train_images = np.array(train_images)\n",
        "test_images = np.array(test_images)\n",
        "\n",
        "# Convert lists of labels to numpy arrays\n",
        "train_labels = np.array(sample_train_df['target'])\n",
        "test_labels = np.array(sample_test_df['target'])\n",
        "\n",
        "# Split the training data into training and validation sets\n",
        "X_train, X_val, y_train, y_val = train_test_split(train_images, train_labels, test_size=0.2, random_state=42)\n",
        "\n",
        "# Data Augmentation\n",
        "data_augmentation = Sequential([\n",
        "    layers.experimental.preprocessing.RandomFlip('horizontal'),\n",
        "    layers.experimental.preprocessing.RandomRotation(0.2),\n",
        "    layers.experimental.preprocessing.RandomZoom(0.2),\n",
        "])\n",
        "\n",
        "# Create MobileNetV2 Model\n",
        "base_model = tf.keras.applications.MobileNetV2(input_shape=(180, 180, 3), include_top=False, weights='imagenet')\n",
        "base_model.trainable = False\n",
        "\n",
        "number_of_classes = 10  # Update this based on your dataset\n",
        "model = Sequential([\n",
        "    data_augmentation,\n",
        "    base_model,\n",
        "    layers.GlobalAveragePooling2D(),\n",
        "    layers.Dropout(0.2),\n",
        "    layers.Dense(number_of_classes, activation='softmax')\n",
        "])\n",
        "\n",
        "# # Compile the Model\n",
        "model.compile(optimizer=Adam(lr=0.001), loss='sparse_categorical_crossentropy', metrics=['accuracy'])\n",
        "\n"
      ]
    },
    {
      "cell_type": "code",
      "execution_count": null,
      "metadata": {
        "colab": {
          "base_uri": "https://localhost:8080/"
        },
        "id": "hVd_cVzmb9dm",
        "outputId": "9b53f5d4-3592-459a-ef34-a38e25cb593a"
      },
      "outputs": [
        {
          "output_type": "stream",
          "name": "stdout",
          "text": [
            "Epoch 1/20\n",
            "46/46 [==============================] - 9s 86ms/step - loss: 2.3836 - accuracy: 0.1999 - val_loss: 2.0025 - val_accuracy: 0.3297\n",
            "Epoch 2/20\n",
            "46/46 [==============================] - 2s 46ms/step - loss: 1.9933 - accuracy: 0.3317 - val_loss: 1.9057 - val_accuracy: 0.3736\n",
            "Epoch 3/20\n",
            "46/46 [==============================] - 2s 51ms/step - loss: 1.8461 - accuracy: 0.3894 - val_loss: 1.8177 - val_accuracy: 0.3819\n",
            "Epoch 4/20\n",
            "46/46 [==============================] - 2s 53ms/step - loss: 1.7629 - accuracy: 0.4052 - val_loss: 1.7493 - val_accuracy: 0.4093\n",
            "Epoch 5/20\n",
            "46/46 [==============================] - 2s 52ms/step - loss: 1.6885 - accuracy: 0.4361 - val_loss: 1.7879 - val_accuracy: 0.3984\n",
            "Epoch 6/20\n",
            "46/46 [==============================] - 3s 57ms/step - loss: 1.6148 - accuracy: 0.4499 - val_loss: 1.7815 - val_accuracy: 0.4038\n",
            "Epoch 7/20\n",
            "46/46 [==============================] - 2s 53ms/step - loss: 1.5522 - accuracy: 0.4684 - val_loss: 1.7596 - val_accuracy: 0.4066\n",
            "Epoch 8/20\n",
            "46/46 [==============================] - 2s 46ms/step - loss: 1.5289 - accuracy: 0.4918 - val_loss: 1.7845 - val_accuracy: 0.3956\n",
            "Epoch 9/20\n",
            "46/46 [==============================] - 2s 52ms/step - loss: 1.5444 - accuracy: 0.4760 - val_loss: 1.7777 - val_accuracy: 0.4093\n",
            "Epoch 10/20\n",
            "46/46 [==============================] - 2s 46ms/step - loss: 1.4754 - accuracy: 0.4973 - val_loss: 1.8503 - val_accuracy: 0.3956\n",
            "Epoch 11/20\n",
            "46/46 [==============================] - 2s 54ms/step - loss: 1.5133 - accuracy: 0.4897 - val_loss: 1.7668 - val_accuracy: 0.4231\n",
            "Epoch 12/20\n",
            "46/46 [==============================] - 2s 51ms/step - loss: 1.4373 - accuracy: 0.4979 - val_loss: 1.7529 - val_accuracy: 0.4396\n",
            "Epoch 13/20\n",
            "46/46 [==============================] - 3s 57ms/step - loss: 1.4338 - accuracy: 0.5034 - val_loss: 1.8170 - val_accuracy: 0.4121\n",
            "Epoch 14/20\n",
            "46/46 [==============================] - 2s 52ms/step - loss: 1.3872 - accuracy: 0.5021 - val_loss: 1.7553 - val_accuracy: 0.4286\n",
            "Epoch 15/20\n",
            "46/46 [==============================] - 2s 46ms/step - loss: 1.3837 - accuracy: 0.5337 - val_loss: 1.8323 - val_accuracy: 0.3929\n",
            "Epoch 16/20\n",
            "46/46 [==============================] - 2s 52ms/step - loss: 1.3909 - accuracy: 0.5089 - val_loss: 1.8207 - val_accuracy: 0.4148\n",
            "Epoch 17/20\n",
            "46/46 [==============================] - 2s 47ms/step - loss: 1.3582 - accuracy: 0.5302 - val_loss: 1.7670 - val_accuracy: 0.4203\n",
            "Epoch 18/20\n",
            "46/46 [==============================] - 2s 51ms/step - loss: 1.3335 - accuracy: 0.5446 - val_loss: 1.7951 - val_accuracy: 0.4148\n",
            "Epoch 19/20\n",
            "46/46 [==============================] - 3s 58ms/step - loss: 1.3072 - accuracy: 0.5405 - val_loss: 1.8212 - val_accuracy: 0.4148\n",
            "Epoch 20/20\n",
            "46/46 [==============================] - 2s 51ms/step - loss: 1.3038 - accuracy: 0.5467 - val_loss: 1.8129 - val_accuracy: 0.4203\n"
          ]
        }
      ],
      "source": [
        "#Train the Model\n",
        "history = model.fit(X_train, y_train, epochs=20, validation_data=(X_val, y_val), batch_size=32)\n",
        "\n"
      ]
    },
    {
      "cell_type": "code",
      "execution_count": null,
      "metadata": {
        "colab": {
          "base_uri": "https://localhost:8080/"
        },
        "id": "Aa8YJIFEcql6",
        "outputId": "1a4aea70-c8a9-451e-8404-ac43c46f832e"
      },
      "outputs": [
        {
          "output_type": "stream",
          "name": "stdout",
          "text": [
            "6/6 [==============================] - 0s 36ms/step - loss: 1.9060 - accuracy: 0.3765\n",
            "Test accuracy:  0.37654322385787964\n"
          ]
        }
      ],
      "source": [
        "# Evaluate the Model\n",
        "loss, accuracy = model.evaluate(test_images, test_labels)\n",
        "print(\"Test accuracy: \", accuracy)"
      ]
    },
    {
      "cell_type": "code",
      "execution_count": null,
      "metadata": {
        "colab": {
          "base_uri": "https://localhost:8080/"
        },
        "id": "mQzdlwimUIvU",
        "outputId": "596247b8-599f-4ffe-97fc-6b93b1a8ee17"
      },
      "outputs": [
        {
          "output_type": "stream",
          "name": "stdout",
          "text": [
            "1/1 [==============================] - 1s 766ms/step\n",
            "Actinic Keratosis Basal Cell Carcinoma and other Malignant Lesions\n",
            "Prediction probabilities: [[0.41593158 0.21409215 0.0017711  0.13992111 0.02151102 0.12241213\n",
            "  0.00338511 0.00317926 0.00095172 0.07684486]]\n"
          ]
        }
      ],
      "source": [
        "def predict_skin_disease(image_path):\n",
        "    # Define list of class names\n",
        "    class_names = ['Actinic Keratosis Basal Cell Carcinoma and other Malignant Lesions',\n",
        "                   'Acne and Rosacea Photos','Atopic Dermatitis Photos',\n",
        "                    'Bullous Disease Photos',\n",
        "                    'Cellulitis Impetigo and other Bacterial Infections',\n",
        "             'Eczema Photos',\n",
        "            'Exanthems and Drug Eruptions',\n",
        "                   'Hair Loss Photos Alopecia and other Hair Diseases',\n",
        " 'Herpes HPV and other STDs Photos',\n",
        " 'Light Diseases and Disorders of Pigmentation'\n",
        "                  ]\n",
        "\n",
        "    # Load and preprocess image\n",
        "    img = cv2.imread(image_path)\n",
        "    img = cv2.cvtColor(img, cv2.COLOR_BGR2RGB)\n",
        "    img = cv2.resize(img, (180, 180))\n",
        "    img = np.array(img) / 255.0\n",
        "    img = np.expand_dims(img, axis=0)\n",
        "\n",
        "    # Make prediction on preprocessed image\n",
        "    pred = model.predict(img)\n",
        "    predicted_class_index = np.argmax(pred)\n",
        "    predicted_class_name = class_names[predicted_class_index]\n",
        "\n",
        "    return predicted_class_name, pred\n",
        "\n",
        "img_path = test_dir+'/Actinic Keratosis Basal Cell Carcinoma and other Malignant Lesions/actinic-cheilitis-sq-cell-lip-6.jpg'\n",
        "predicted_class, pred = predict_skin_disease(img_path)\n",
        "print(predicted_class)\n",
        "print(\"Prediction probabilities:\", pred)\n",
        "\n"
      ]
    },
    {
      "cell_type": "code",
      "source": [
        "img_path2 = test_dir+'/Acne and Rosacea Photos/07PerioralDermEye.jpg'\n",
        "predicted_class, pred = predict_skin_disease(img_path2)\n",
        "print(predicted_class)\n",
        "print(\"Prediction probabilities:\", pred)\n"
      ],
      "metadata": {
        "colab": {
          "base_uri": "https://localhost:8080/"
        },
        "id": "onCx_0K2wBM0",
        "outputId": "95488f93-5b69-41eb-9ffd-88a78a61e684"
      },
      "execution_count": null,
      "outputs": [
        {
          "output_type": "stream",
          "name": "stdout",
          "text": [
            "1/1 [==============================] - 0s 23ms/step\n",
            "Acne and Rosacea Photos\n",
            "Prediction probabilities: [[0.08657448 0.42035523 0.01674657 0.06881848 0.03628497 0.2367955\n",
            "  0.03894079 0.04183753 0.01202457 0.04162195]]\n"
          ]
        }
      ]
    },
    {
      "cell_type": "code",
      "execution_count": null,
      "metadata": {
        "colab": {
          "base_uri": "https://localhost:8080/"
        },
        "id": "MUociuzqWT79",
        "outputId": "18a5d2bc-0819-401d-da3e-f55cad2b1965"
      },
      "outputs": [
        {
          "output_type": "stream",
          "name": "stdout",
          "text": [
            "Requirement already satisfied: scikit-image in /usr/local/lib/python3.10/dist-packages (0.19.3)\n",
            "Requirement already satisfied: numpy>=1.17.0 in /usr/local/lib/python3.10/dist-packages (from scikit-image) (1.23.5)\n",
            "Requirement already satisfied: scipy>=1.4.1 in /usr/local/lib/python3.10/dist-packages (from scikit-image) (1.11.3)\n",
            "Requirement already satisfied: networkx>=2.2 in /usr/local/lib/python3.10/dist-packages (from scikit-image) (3.2.1)\n",
            "Requirement already satisfied: pillow!=7.1.0,!=7.1.1,!=8.3.0,>=6.1.0 in /usr/local/lib/python3.10/dist-packages (from scikit-image) (9.4.0)\n",
            "Requirement already satisfied: imageio>=2.4.1 in /usr/local/lib/python3.10/dist-packages (from scikit-image) (2.31.6)\n",
            "Requirement already satisfied: tifffile>=2019.7.26 in /usr/local/lib/python3.10/dist-packages (from scikit-image) (2023.9.26)\n",
            "Requirement already satisfied: PyWavelets>=1.1.1 in /usr/local/lib/python3.10/dist-packages (from scikit-image) (1.4.1)\n",
            "Requirement already satisfied: packaging>=20.0 in /usr/local/lib/python3.10/dist-packages (from scikit-image) (23.2)\n"
          ]
        }
      ],
      "source": [
        "!pip install scikit-image\n"
      ]
    },
    {
      "cell_type": "markdown",
      "metadata": {
        "id": "UTKAXX-kgK2A"
      },
      "source": [
        "**SVM**"
      ]
    },
    {
      "cell_type": "code",
      "source": [
        "import pandas as pd\n",
        "import os\n",
        "from skimage.transform import resize\n",
        "from skimage.io import imread\n",
        "import numpy as np\n",
        "import matplotlib.pyplot as plt\n",
        "from sklearn import svm\n",
        "from sklearn.model_selection import GridSearchCV\n",
        "from sklearn.model_selection import train_test_split\n",
        "from sklearn.metrics import accuracy_score\n",
        "from sklearn.metrics import classification_report\n"
      ],
      "metadata": {
        "id": "iP3F4UZTAos_"
      },
      "execution_count": 12,
      "outputs": []
    },
    {
      "cell_type": "code",
      "source": [
        "# Defining the parameters grid for GridSearchCV\n",
        "param_grid={'C':[0.1,1,10,100],\n",
        "\t\t\t'gamma':[0.0001,0.001,0.1,1],\n",
        "\t\t\t'kernel':['rbf','poly']}\n",
        "\n",
        "# Creating a support vector classifier\n",
        "svc=svm.SVC(probability=True)\n",
        "\n",
        "# Creating a model using GridSearchCV with the parameters grid\n",
        "model=GridSearchCV(svc,param_grid)\n"
      ],
      "metadata": {
        "id": "mFFp7xXxA_7s"
      },
      "execution_count": 18,
      "outputs": []
    },
    {
      "cell_type": "code",
      "source": [
        "# Define the SVM classifier\n",
        "# svc = SVC()\n",
        "\n",
        "# Train the SVM classifier\n",
        "svc.fit(X_train.reshape(-1, 180 * 180 * 3), y_train)\n",
        "\n",
        "# Evaluate the SVM classifier on the validation set\n",
        "y_pred = svc.predict(X_val.reshape(-1, 180 * 180 * 3))\n",
        "accuracy = accuracy_score(y_val, y_pred)\n",
        "print(\"Accuracy on validation set:\", accuracy)\n",
        "\n",
        "# Evaluate the SVM classifier on the test set\n",
        "y_pred = svc.predict(test_images.reshape(-1, 180 * 180 * 3))\n",
        "accuracy = accuracy_score(y_pred, test_labels)\n",
        "print(\"Accuracy on test set:\", accuracy)\n",
        "\n",
        "# Print the classification report\n",
        "print(classification_report(test_labels, y_pred, target_names=['Actinic Keratosis Basal Cell Carcinoma and other Malignant Lesions',\n",
        "                   'Acne and Rosacea Photos','Atopic Dermatitis Photos',\n",
        "                    'Bullous Disease Photos',\n",
        "                    'Cellulitis Impetigo and other Bacterial Infections', 'Eczema Photos',\n",
        "              'Exanthems and Drug Eruptions',\n",
        "               'Hair Loss Photos Alopecia and other Hair Diseases',\n",
        " 'Herpes HPV and other STDs Photos',\n",
        " 'Light Diseases and Disorders of Pigmentation'\n",
        "              ]))\n"
      ],
      "metadata": {
        "colab": {
          "base_uri": "https://localhost:8080/"
        },
        "id": "zSUDatAvKF2o",
        "outputId": "bb3fd933-02f1-4d11-85f1-a79319a876d2"
      },
      "execution_count": 20,
      "outputs": [
        {
          "output_type": "stream",
          "name": "stdout",
          "text": [
            "Accuracy on validation set: 0.3708791208791209\n",
            "Accuracy on test set: 0.36419753086419754\n",
            "                                                                    precision    recall  f1-score   support\n",
            "\n",
            "Actinic Keratosis Basal Cell Carcinoma and other Malignant Lesions       0.49      0.47      0.48        38\n",
            "                                           Acne and Rosacea Photos       0.30      0.68      0.42        31\n",
            "                                          Atopic Dermatitis Photos       0.00      0.00      0.00        12\n",
            "                                            Bullous Disease Photos       0.00      0.00      0.00         9\n",
            "                Cellulitis Impetigo and other Bacterial Infections       0.00      0.00      0.00         4\n",
            "                                                     Eczema Photos       0.37      0.74      0.49        27\n",
            "                                      Exanthems and Drug Eruptions       0.00      0.00      0.00        17\n",
            "                 Hair Loss Photos Alopecia and other Hair Diseases       0.00      0.00      0.00         4\n",
            "                                  Herpes HPV and other STDs Photos       0.00      0.00      0.00         7\n",
            "                      Light Diseases and Disorders of Pigmentation       0.00      0.00      0.00        13\n",
            "\n",
            "                                                          accuracy                           0.36       162\n",
            "                                                         macro avg       0.12      0.19      0.14       162\n",
            "                                                      weighted avg       0.23      0.36      0.28       162\n",
            "\n"
          ]
        },
        {
          "output_type": "stream",
          "name": "stderr",
          "text": [
            "/usr/local/lib/python3.10/dist-packages/sklearn/metrics/_classification.py:1344: UndefinedMetricWarning: Precision and F-score are ill-defined and being set to 0.0 in labels with no predicted samples. Use `zero_division` parameter to control this behavior.\n",
            "  _warn_prf(average, modifier, msg_start, len(result))\n",
            "/usr/local/lib/python3.10/dist-packages/sklearn/metrics/_classification.py:1344: UndefinedMetricWarning: Precision and F-score are ill-defined and being set to 0.0 in labels with no predicted samples. Use `zero_division` parameter to control this behavior.\n",
            "  _warn_prf(average, modifier, msg_start, len(result))\n",
            "/usr/local/lib/python3.10/dist-packages/sklearn/metrics/_classification.py:1344: UndefinedMetricWarning: Precision and F-score are ill-defined and being set to 0.0 in labels with no predicted samples. Use `zero_division` parameter to control this behavior.\n",
            "  _warn_prf(average, modifier, msg_start, len(result))\n"
          ]
        }
      ]
    },
    {
      "cell_type": "code",
      "source": [
        "# Define the test image path\n",
        "path= test_dir+'/Actinic Keratosis Basal Cell Carcinoma and other Malignant Lesions/actinic-cheilitis-sq-cell-lip-6.jpg'\n",
        "\n",
        "# Load the test image\n",
        "test_image = cv2.imread(path)\n",
        "\n",
        "# Preprocess the test image\n",
        "test_image = cv2.cvtColor(test_image, cv2.COLOR_BGR2RGB)\n",
        "test_image = cv2.resize(test_image, (180, 180))\n",
        "test_image = test_image / 255.0  # Normalize pixel values to [0, 1]\n",
        "\n",
        "# Reshape the test image to a 2D array\n",
        "test_image = test_image.reshape(-1, 180 * 180 * 3)\n",
        "\n",
        "# Predict the category of the test image\n",
        "predicted_category = svc.predict(test_image)[0]\n",
        "\n",
        "print(predicted_category)\n",
        "\n",
        "# Print the predicted category\n",
        "print(\"Predicted category:\", categories['test'][predicted_category])\n"
      ],
      "metadata": {
        "colab": {
          "base_uri": "https://localhost:8080/"
        },
        "id": "Qgvw1qOAVIt3",
        "outputId": "8720d212-ded9-4015-df23-3ab3f3198c64"
      },
      "execution_count": 25,
      "outputs": [
        {
          "output_type": "stream",
          "name": "stdout",
          "text": [
            "1\n",
            "Predicted category: Actinic Keratosis Basal Cell Carcinoma and other Malignant Lesions\n"
          ]
        }
      ]
    },
    {
      "cell_type": "markdown",
      "metadata": {
        "id": "wFVrYHRBjrYw"
      },
      "source": [
        "**Reference:**\n",
        "\n",
        "1. https://www.kaggle.com/code/ishaanchandak301/skin-detection-acc-98\n",
        "2. https://www.geeksforgeeks.org/image-classification-using-support-vector-machine-svm-in-python/\n"
      ]
    }
  ],
  "metadata": {
    "colab": {
      "provenance": [],
      "gpuType": "T4"
    },
    "kernelspec": {
      "display_name": "Python 3",
      "name": "python3"
    },
    "language_info": {
      "name": "python"
    },
    "accelerator": "GPU"
  },
  "nbformat": 4,
  "nbformat_minor": 0
}